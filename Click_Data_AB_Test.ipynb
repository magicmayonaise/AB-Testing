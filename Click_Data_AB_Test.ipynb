{
 "cells": [
  {
   "cell_type": "markdown",
   "id": "46cb6bf9",
   "metadata": {},
   "source": [
    "AB Testing Case Study"
   ]
  },
  {
   "cell_type": "code",
   "execution_count": null,
   "id": "d78ca45a",
   "metadata": {},
   "outputs": [
    {
     "ename": "ImportError",
     "evalue": "cannot import name 'fishers_exact' from 'scipy.stats' (c:\\Users\\Dan\\anaconda3\\envs\\DATAsci\\lib\\site-packages\\scipy\\stats\\__init__.py)",
     "output_type": "error",
     "traceback": [
      "\u001b[1;31m---------------------------------------------------------------------------\u001b[0m",
      "\u001b[1;31mImportError\u001b[0m                               Traceback (most recent call last)",
      "Cell \u001b[1;32mIn[34], line 7\u001b[0m\n\u001b[0;32m      5\u001b[0m \u001b[38;5;28;01mimport\u001b[39;00m \u001b[38;5;21;01mmatplotlib\u001b[39;00m\u001b[38;5;21;01m.\u001b[39;00m\u001b[38;5;21;01mpyplot\u001b[39;00m \u001b[38;5;28;01mas\u001b[39;00m \u001b[38;5;21;01mplt\u001b[39;00m\n\u001b[0;32m      6\u001b[0m \u001b[38;5;28;01mfrom\u001b[39;00m \u001b[38;5;21;01mscipy\u001b[39;00m\u001b[38;5;21;01m.\u001b[39;00m\u001b[38;5;21;01mstats\u001b[39;00m \u001b[38;5;28;01mimport\u001b[39;00m chi2_contingency\n\u001b[1;32m----> 7\u001b[0m \u001b[38;5;28;01mfrom\u001b[39;00m \u001b[38;5;21;01mscipy\u001b[39;00m\u001b[38;5;21;01m.\u001b[39;00m\u001b[38;5;21;01mstats\u001b[39;00m \u001b[38;5;28;01mimport\u001b[39;00m fishers_exact\n",
      "\u001b[1;31mImportError\u001b[0m: cannot import name 'fishers_exact' from 'scipy.stats' (c:\\Users\\Dan\\anaconda3\\envs\\DATAsci\\lib\\site-packages\\scipy\\stats\\__init__.py)"
     ]
    }
   ],
   "source": [
    "import pandas as pd\n",
    "import numpy as np\n",
    "import scipy.stats as stats\n",
    "import seaborn as sns\n",
    "import matplotlib.pyplot as plt\n",
    "from scipy.stats import chi2_contingency\n"
   ]
  },
  {
   "cell_type": "code",
   "execution_count": 6,
   "id": "7646c1c2",
   "metadata": {},
   "outputs": [
    {
     "data": {
      "application/vnd.microsoft.datawrangler.viewer.v0+json": {
       "columns": [
        {
         "name": "index",
         "rawType": "int64",
         "type": "integer"
        },
        {
         "name": "user_id",
         "rawType": "int64",
         "type": "integer"
        },
        {
         "name": "click",
         "rawType": "int64",
         "type": "integer"
        },
        {
         "name": "group",
         "rawType": "object",
         "type": "string"
        },
        {
         "name": "timestamp",
         "rawType": "object",
         "type": "string"
        }
       ],
       "ref": "42bb9189-c2a0-4986-8811-db41c40f848a",
       "rows": [
        [
         "0",
         "1",
         "1",
         "exp",
         "2024-01-01 00:00:00"
        ],
        [
         "1",
         "2",
         "0",
         "exp",
         "2024-01-01 00:01:00"
        ],
        [
         "2",
         "3",
         "1",
         "exp",
         "2024-01-01 00:02:00"
        ],
        [
         "3",
         "4",
         "0",
         "exp",
         "2024-01-01 00:03:00"
        ],
        [
         "4",
         "5",
         "1",
         "exp",
         "2024-01-01 00:04:00"
        ]
       ],
       "shape": {
        "columns": 4,
        "rows": 5
       }
      },
      "text/html": [
       "<div>\n",
       "<style scoped>\n",
       "    .dataframe tbody tr th:only-of-type {\n",
       "        vertical-align: middle;\n",
       "    }\n",
       "\n",
       "    .dataframe tbody tr th {\n",
       "        vertical-align: top;\n",
       "    }\n",
       "\n",
       "    .dataframe thead th {\n",
       "        text-align: right;\n",
       "    }\n",
       "</style>\n",
       "<table border=\"1\" class=\"dataframe\">\n",
       "  <thead>\n",
       "    <tr style=\"text-align: right;\">\n",
       "      <th></th>\n",
       "      <th>user_id</th>\n",
       "      <th>click</th>\n",
       "      <th>group</th>\n",
       "      <th>timestamp</th>\n",
       "    </tr>\n",
       "  </thead>\n",
       "  <tbody>\n",
       "    <tr>\n",
       "      <th>0</th>\n",
       "      <td>1</td>\n",
       "      <td>1</td>\n",
       "      <td>exp</td>\n",
       "      <td>2024-01-01 00:00:00</td>\n",
       "    </tr>\n",
       "    <tr>\n",
       "      <th>1</th>\n",
       "      <td>2</td>\n",
       "      <td>0</td>\n",
       "      <td>exp</td>\n",
       "      <td>2024-01-01 00:01:00</td>\n",
       "    </tr>\n",
       "    <tr>\n",
       "      <th>2</th>\n",
       "      <td>3</td>\n",
       "      <td>1</td>\n",
       "      <td>exp</td>\n",
       "      <td>2024-01-01 00:02:00</td>\n",
       "    </tr>\n",
       "    <tr>\n",
       "      <th>3</th>\n",
       "      <td>4</td>\n",
       "      <td>0</td>\n",
       "      <td>exp</td>\n",
       "      <td>2024-01-01 00:03:00</td>\n",
       "    </tr>\n",
       "    <tr>\n",
       "      <th>4</th>\n",
       "      <td>5</td>\n",
       "      <td>1</td>\n",
       "      <td>exp</td>\n",
       "      <td>2024-01-01 00:04:00</td>\n",
       "    </tr>\n",
       "  </tbody>\n",
       "</table>\n",
       "</div>"
      ],
      "text/plain": [
       "   user_id  click group            timestamp\n",
       "0        1      1   exp  2024-01-01 00:00:00\n",
       "1        2      0   exp  2024-01-01 00:01:00\n",
       "2        3      1   exp  2024-01-01 00:02:00\n",
       "3        4      0   exp  2024-01-01 00:03:00\n",
       "4        5      1   exp  2024-01-01 00:04:00"
      ]
     },
     "execution_count": 6,
     "metadata": {},
     "output_type": "execute_result"
    }
   ],
   "source": [
    "df = pd.read_csv(r\"C:\\Users\\Dan\\miniconda3\\Workspaces\\Learning\\Data\\ab_test_click_data.csv\")\n",
    "df.head()"
   ]
  },
  {
   "cell_type": "code",
   "execution_count": 7,
   "id": "7a730ba1",
   "metadata": {},
   "outputs": [
    {
     "data": {
      "application/vnd.microsoft.datawrangler.viewer.v0+json": {
       "columns": [
        {
         "name": "index",
         "rawType": "object",
         "type": "string"
        },
        {
         "name": "user_id",
         "rawType": "float64",
         "type": "float"
        },
        {
         "name": "click",
         "rawType": "float64",
         "type": "float"
        }
       ],
       "ref": "c43b6118-8f48-4a6c-a8c0-eae18e267419",
       "rows": [
        [
         "count",
         "20000.0",
         "20000.0"
        ],
        [
         "mean",
         "10000.5",
         "0.40525"
        ],
        [
         "std",
         "5773.647027659381",
         "0.4909526344001204"
        ],
        [
         "min",
         "1.0",
         "0.0"
        ],
        [
         "25%",
         "5000.75",
         "0.0"
        ],
        [
         "50%",
         "10000.5",
         "0.0"
        ],
        [
         "75%",
         "15000.25",
         "1.0"
        ],
        [
         "max",
         "20000.0",
         "1.0"
        ]
       ],
       "shape": {
        "columns": 2,
        "rows": 8
       }
      },
      "text/html": [
       "<div>\n",
       "<style scoped>\n",
       "    .dataframe tbody tr th:only-of-type {\n",
       "        vertical-align: middle;\n",
       "    }\n",
       "\n",
       "    .dataframe tbody tr th {\n",
       "        vertical-align: top;\n",
       "    }\n",
       "\n",
       "    .dataframe thead th {\n",
       "        text-align: right;\n",
       "    }\n",
       "</style>\n",
       "<table border=\"1\" class=\"dataframe\">\n",
       "  <thead>\n",
       "    <tr style=\"text-align: right;\">\n",
       "      <th></th>\n",
       "      <th>user_id</th>\n",
       "      <th>click</th>\n",
       "    </tr>\n",
       "  </thead>\n",
       "  <tbody>\n",
       "    <tr>\n",
       "      <th>count</th>\n",
       "      <td>20000.000000</td>\n",
       "      <td>20000.000000</td>\n",
       "    </tr>\n",
       "    <tr>\n",
       "      <th>mean</th>\n",
       "      <td>10000.500000</td>\n",
       "      <td>0.405250</td>\n",
       "    </tr>\n",
       "    <tr>\n",
       "      <th>std</th>\n",
       "      <td>5773.647028</td>\n",
       "      <td>0.490953</td>\n",
       "    </tr>\n",
       "    <tr>\n",
       "      <th>min</th>\n",
       "      <td>1.000000</td>\n",
       "      <td>0.000000</td>\n",
       "    </tr>\n",
       "    <tr>\n",
       "      <th>25%</th>\n",
       "      <td>5000.750000</td>\n",
       "      <td>0.000000</td>\n",
       "    </tr>\n",
       "    <tr>\n",
       "      <th>50%</th>\n",
       "      <td>10000.500000</td>\n",
       "      <td>0.000000</td>\n",
       "    </tr>\n",
       "    <tr>\n",
       "      <th>75%</th>\n",
       "      <td>15000.250000</td>\n",
       "      <td>1.000000</td>\n",
       "    </tr>\n",
       "    <tr>\n",
       "      <th>max</th>\n",
       "      <td>20000.000000</td>\n",
       "      <td>1.000000</td>\n",
       "    </tr>\n",
       "  </tbody>\n",
       "</table>\n",
       "</div>"
      ],
      "text/plain": [
       "            user_id         click\n",
       "count  20000.000000  20000.000000\n",
       "mean   10000.500000      0.405250\n",
       "std     5773.647028      0.490953\n",
       "min        1.000000      0.000000\n",
       "25%     5000.750000      0.000000\n",
       "50%    10000.500000      0.000000\n",
       "75%    15000.250000      1.000000\n",
       "max    20000.000000      1.000000"
      ]
     },
     "execution_count": 7,
     "metadata": {},
     "output_type": "execute_result"
    }
   ],
   "source": [
    "df.describe()"
   ]
  },
  {
   "cell_type": "code",
   "execution_count": null,
   "id": "e5ff3ebb",
   "metadata": {},
   "outputs": [
    {
     "data": {
      "application/vnd.microsoft.datawrangler.viewer.v0+json": {
       "columns": [
        {
         "name": "index",
         "rawType": "object",
         "type": "string"
        },
        {
         "name": "0",
         "rawType": "int64",
         "type": "integer"
        }
       ],
       "ref": "9729a60b-3d6f-4649-bc20-142df356a4f1",
       "rows": [
        [
         "user_id",
         "0"
        ],
        [
         "click",
         "0"
        ],
        [
         "group",
         "0"
        ],
        [
         "timestamp",
         "10000"
        ]
       ],
       "shape": {
        "columns": 1,
        "rows": 4
       }
      },
      "text/plain": [
       "user_id          0\n",
       "click            0\n",
       "group            0\n",
       "timestamp    10000\n",
       "dtype: int64"
      ]
     },
     "execution_count": 12,
     "metadata": {},
     "output_type": "execute_result"
    }
   ],
   "source": [
    "# Check for missing values\n",
    "df.isna().sum()"
   ]
  },
  {
   "cell_type": "code",
   "execution_count": null,
   "id": "1da3baa5",
   "metadata": {},
   "outputs": [
    {
     "data": {
      "application/vnd.microsoft.datawrangler.viewer.v0+json": {
       "columns": [
        {
         "name": "group",
         "rawType": "object",
         "type": "string"
        },
        {
         "name": "user_id",
         "rawType": "int64",
         "type": "integer"
        },
        {
         "name": "click",
         "rawType": "int64",
         "type": "integer"
        }
       ],
       "ref": "97200442-83f3-4002-ac27-61eaa5f2b318",
       "rows": [
        [
         "con",
         "150005000",
         "1989"
        ],
        [
         "exp",
         "50005000",
         "6116"
        ]
       ],
       "shape": {
        "columns": 2,
        "rows": 2
       }
      },
      "text/html": [
       "<div>\n",
       "<style scoped>\n",
       "    .dataframe tbody tr th:only-of-type {\n",
       "        vertical-align: middle;\n",
       "    }\n",
       "\n",
       "    .dataframe tbody tr th {\n",
       "        vertical-align: top;\n",
       "    }\n",
       "\n",
       "    .dataframe thead th {\n",
       "        text-align: right;\n",
       "    }\n",
       "</style>\n",
       "<table border=\"1\" class=\"dataframe\">\n",
       "  <thead>\n",
       "    <tr style=\"text-align: right;\">\n",
       "      <th></th>\n",
       "      <th>user_id</th>\n",
       "      <th>click</th>\n",
       "    </tr>\n",
       "    <tr>\n",
       "      <th>group</th>\n",
       "      <th></th>\n",
       "      <th></th>\n",
       "    </tr>\n",
       "  </thead>\n",
       "  <tbody>\n",
       "    <tr>\n",
       "      <th>con</th>\n",
       "      <td>150005000</td>\n",
       "      <td>1989</td>\n",
       "    </tr>\n",
       "    <tr>\n",
       "      <th>exp</th>\n",
       "      <td>50005000</td>\n",
       "      <td>6116</td>\n",
       "    </tr>\n",
       "  </tbody>\n",
       "</table>\n",
       "</div>"
      ],
      "text/plain": [
       "         user_id  click\n",
       "group                  \n",
       "con    150005000   1989\n",
       "exp     50005000   6116"
      ]
     },
     "execution_count": 13,
     "metadata": {},
     "output_type": "execute_result"
    }
   ],
   "source": [
    "df.groupby('group').sum('click')"
   ]
  },
  {
   "cell_type": "code",
   "execution_count": 24,
   "id": "635b9fed",
   "metadata": {},
   "outputs": [
    {
     "data": {
      "image/png": "[encoded data removed]",
      "text/plain": [
       "<Figure size 800x500 with 1 Axes>"
      ]
     },
     "metadata": {},
     "output_type": "display_data"
    }
   ],
   "source": [
    "# Step 1: Count clicks and no-clicks per group\n",
    "click_counts = df.groupby(['group', 'click']).size().unstack(fill_value=0)\n",
    "\n",
    "# Step 2: Normalize to get percentages per group\n",
    "click_percent = click_counts.div(click_counts.sum(axis=1), axis=0) * 100\n",
    "\n",
    "# Step 3: Plot stacked bar chart (percentages)\n",
    "ax = click_percent.plot(kind='bar', stacked=True, color=['lightgray', 'skyblue'], figsize=(8, 5))\n",
    "\n",
    "# Step 4: Annotate with percent values inside bars\n",
    "for i, group in enumerate(click_percent.index):\n",
    "    bottom = 0\n",
    "    for click_value in [0, 1]:\n",
    "        value = click_percent.loc[group, click_value]\n",
    "        if value > 0:\n",
    "            ax.text(i, bottom + value / 2, f'{value:.1f}%', ha='center', va='center', fontsize=10, color='black')\n",
    "            bottom += value\n",
    "\n",
    "# Final plot adjustments\n",
    "plt.title(\"Percentage of Clicks vs No Clicks by Group\")\n",
    "plt.ylabel(\"Percentage\")\n",
    "plt.xlabel(\"Group\")\n",
    "plt.legend(title=\"Click\", labels=[\"No Click\", \"Click\"])\n",
    "plt.xticks(rotation=0)\n",
    "plt.ylim(0, 105)\n",
    "plt.tight_layout()\n",
    "plt.show()"
   ]
  },
  {
   "cell_type": "code",
   "execution_count": 29,
   "id": "d71adaab",
   "metadata": {},
   "outputs": [
    {
     "name": "stdout",
     "output_type": "stream",
     "text": [
      "Contingency Table:\n",
      "click     0     1\n",
      "group            \n",
      "con    8011  1989\n",
      "exp    3884  6116\n",
      "\n",
      "Chi-squared: 3531.596\n",
      "p-value: 0.0000\n",
      "Degrees of freedom: 1\n",
      "Expected Frequencies:\n",
      "[[5947.5 4052.5]\n",
      " [5947.5 4052.5]]\n"
     ]
    },
    {
     "data": {
      "image/png": "[encoded data removed]",
      "text/plain": [
       "<Figure size 640x480 with 1 Axes>"
      ]
     },
     "metadata": {},
     "output_type": "display_data"
    },
    {
     "data": {
      "image/png": "[encoded data removed]",
      "text/plain": [
       "<Figure size 640x480 with 1 Axes>"
      ]
     },
     "metadata": {},
     "output_type": "display_data"
    }
   ],
   "source": [
    "\n",
    "\n",
    "\n",
    "\n",
    "# Step 1: Create a 2x2 contingency table\n",
    "contingency_table = pd.crosstab(df['group'], df['click'])\n",
    "\n",
    "# Step 2: Run chi-squared test\n",
    "chi2, p, dof, expected = chi2_contingency(contingency_table)\n",
    "\n",
    "# Step 3: Report results\n",
    "print(\"Contingency Table:\")\n",
    "print(contingency_table)\n",
    "print(f\"\\nChi-squared: {chi2:.3f}\")\n",
    "print(f\"p-value: {p:.4f}\")\n",
    "print(f\"Degrees of freedom: {dof}\")\n",
    "print(\"Expected Frequencies:\")\n",
    "print(expected)\n",
    "\n",
    "sns.heatmap(contingency_table, annot=True, fmt='d', cmap='Blues', cbar=False)\n",
    "plt.title(\"Contingency Table Heatmap\")\n",
    "plt.show()\n",
    "\n",
    "sns.heatmap(expected, annot=True, fmt='.1f', cmap='Reds', cbar=False)\n",
    "plt.title(\"Expected Frequencies Heatmap\")\n",
    "plt.show()"
   ]
  },
  {
   "cell_type": "code",
   "execution_count": 38,
   "id": "9e0c29ce",
   "metadata": {},
   "outputs": [
    {
     "name": "stdout",
     "output_type": "stream",
     "text": [
      "Fisher's Exact Test: 6.342, p-value: 0.0000\n"
     ]
    }
   ],
   "source": [
    "fishers_exact = stats.fisher_exact(contingency_table)\n",
    "print(f\"Fisher's Exact Test: {fishers_exact[0]:.3f}, p-value: {fishers_exact[1]:.4f}\")"
   ]
  },
  {
   "cell_type": "code",
   "execution_count": null,
   "id": "de66e176",
   "metadata": {},
   "outputs": [
    {
     "name": "stdout",
     "output_type": "stream",
     "text": [
      "Shuffled Contingency Table:\n",
      "click     0     1\n",
      "group            \n",
      "con    5900  4100\n",
      "exp    5995  4005\n",
      "\n",
      "Chi-squared: 1.833\n",
      "p-value: 0.1758\n",
      "❌ Not statistically significant — supports the null hypothesis (independence).\n"
     ]
    },
    {
     "data": {
      "image/png": "[encoded data removed]",
      "text/plain": [
       "<Figure size 640x480 with 1 Axes>"
      ]
     },
     "metadata": {},
     "output_type": "display_data"
    }
   ],
   "source": [
    "# Step 1: Shuffle the group labels\n",
    "df_shuffled = df.copy()\n",
    "df_shuffled['group'] = np.random.permutation(df['group'].values)\n",
    "\n",
    "# Step 2: Create new contingency table\n",
    "contingency_shuffled = pd.crosstab(df_shuffled['group'], df_shuffled['click'])\n",
    "\n",
    "# Step 3: Perform chi-squared test on shuffled data\n",
    "chi2, p, dof, expected = chi2_contingency(contingency_shuffled)\n",
    "\n",
    "# Step 4: Display\n",
    "print(\"Shuffled Contingency Table:\")\n",
    "print(contingency_shuffled)\n",
    "print(f\"\\nChi-squared: {chi2:.3f}\")\n",
    "print(f\"p-value: {p:.4f}\")\n",
    "\n",
    "if p < 0.05:\n",
    "    print(\"✅ Statistically significant — a rare shuffle outcome to reject the null.\")\n",
    "else:\n",
    "    print(\"❌ Not statistically significant — supports the null hypothesis (independence).\")\n",
    "\n",
    "sns.heatmap(contingency_shuffled, annot=True, fmt='d', cmap='Blues', cbar=False)\n",
    "plt.title(\"Contingency Table Heatmap\")\n",
    "plt.show()"
   ]
  },
  {
   "cell_type": "code",
   "execution_count": 41,
   "id": "690b1e1b",
   "metadata": {},
   "outputs": [
    {
     "name": "stdout",
     "output_type": "stream",
     "text": [
      "Fisher's Exact Test: 0.992, p-value: 0.7954\n"
     ]
    }
   ],
   "source": [
    "fishers_exact = stats.fisher_exact(df_shuffled.groupby(['group', 'click']).size().unstack(fill_value=0))\n",
    "print(f\"Fisher's Exact Test: {fishers_exact[0]:.3f}, p-value: {fishers_exact[1]:.4f}\")"
   ]
  }
 ],
 "metadata": {
  "kernelspec": {
   "display_name": "DATAsci",
   "language": "python",
   "name": "python3"
  },
  "language_info": {
   "codemirror_mode": {
    "name": "ipython",
    "version": 3
   },
   "file_extension": ".py",
   "mimetype": "text/x-python",
   "name": "python",
   "nbconvert_exporter": "python",
   "pygments_lexer": "ipython3",
   "version": "3.10.13"
  }
 },
 "nbformat": 4,
 "nbformat_minor": 5
}
